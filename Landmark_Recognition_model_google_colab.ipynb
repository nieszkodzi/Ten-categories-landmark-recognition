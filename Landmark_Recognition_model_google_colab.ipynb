{
 "cells": [
  {
   "cell_type": "markdown",
   "metadata": {},
   "source": [
    "### 10 class landmark recognition\n",
    "\n",
    "The problem comes from a famous Kaggle competition, the Google Landmark Recognition Challenge. Training set contains over 1.2 million images spread across 14,951 classes of landmarks, varying from one to thousands of images per class. This problem of extreme classification is something that is very prevalent in the data science community today with the advancement of deep learning."
   ]
  },
  {
   "cell_type": "code",
   "execution_count": 1,
   "metadata": {
    "colab": {
     "base_uri": "https://localhost:8080/",
     "height": 34
    },
    "colab_type": "code",
    "id": "WneG2FAS7uuo",
    "outputId": "baa05538-f0a6-4017-fc78-f28b6e350e7c"
   },
   "outputs": [
    {
     "name": "stderr",
     "output_type": "stream",
     "text": [
      "Using TensorFlow backend.\n"
     ]
    }
   ],
   "source": [
    "import numpy as np\n",
    "import pandas as pd\n",
    "\n",
    "from keras.utils import to_categorical\n",
    "from keras.applications import MobileNet\n",
    "from keras.models import Sequential\n",
    "from keras.callbacks import EarlyStopping, ModelCheckpoint\n",
    "from keras.layers import Dense, Conv2D, MaxPool2D, Flatten, AveragePooling2D, Dropout\n",
    "from keras.preprocessing.image import ImageDataGenerator, img_to_array, load_img\n",
    "from keras.models import Model\n",
    "\n",
    "from sklearn.model_selection import train_test_split"
   ]
  },
  {
   "cell_type": "code",
   "execution_count": 2,
   "metadata": {
    "colab": {
     "base_uri": "https://localhost:8080/",
     "height": 34
    },
    "colab_type": "code",
    "id": "k2qF3IqB7uvN",
    "outputId": "388d35df-613d-49e0-fb5a-b2a9288cc8d2"
   },
   "outputs": [
    {
     "name": "stdout",
     "output_type": "stream",
     "text": [
      "Drive already mounted at /content/gdrive; to attempt to forcibly remount, call drive.mount(\"/content/gdrive\", force_remount=True).\n"
     ]
    }
   ],
   "source": [
    "from google.colab import drive\n",
    "drive.mount('/content/gdrive')"
   ]
  },
  {
   "cell_type": "code",
   "execution_count": 0,
   "metadata": {
    "colab": {},
    "colab_type": "code",
    "id": "hjRwF9g2tu_L"
   },
   "outputs": [],
   "source": [
    "train_data_dir = '/content/gdrive/My Drive/Colab Notebooks/Google Landmark Recognition/images/train'\n",
    "validation_data_dir = '/content/gdrive/My Drive/Colab Notebooks/Google Landmark Recognition/images/validation'\n",
    "\n",
    "batch_size = 16\n",
    "img_height, img_width = 96, 96"
   ]
  },
  {
   "cell_type": "markdown",
   "metadata": {},
   "source": [
    "We needed to start with general data preprocessing before we could implement CNNs from Keras for our image classification purposes. "
   ]
  },
  {
   "cell_type": "code",
   "execution_count": 4,
   "metadata": {
    "colab": {
     "base_uri": "https://localhost:8080/",
     "height": 52
    },
    "colab_type": "code",
    "id": "6o8sDfg67uvc",
    "outputId": "2dc55c89-91f3-418f-e200-7bb60059519f"
   },
   "outputs": [
    {
     "name": "stdout",
     "output_type": "stream",
     "text": [
      "Found 9917 images belonging to 10 classes.\n",
      "Found 1969 images belonging to 10 classes.\n"
     ]
    }
   ],
   "source": [
    "# Pixel values rescaling from [0, 255] to [0, 1] interval\n",
    "train_generator = ImageDataGenerator(rescale=1/255, rotation_range=90, zoom_range=0.2, horizontal_flip=True)\n",
    "\n",
    "validation_generator = ImageDataGenerator(rescale=1/255)\n",
    "\n",
    "# Retrieve images and their classes for train and validation sets\n",
    "train_flow = train_generator.flow_from_directory(directory=train_data_dir, \n",
    "                                                 batch_size=batch_size, target_size=(img_height,img_width))\n",
    "\n",
    "validation_flow = validation_generator.flow_from_directory(\n",
    "    directory=validation_data_dir, batch_size=batch_size, \n",
    "    target_size=(img_height,img_width))"
   ]
  },
  {
   "cell_type": "code",
   "execution_count": 0,
   "metadata": {
    "colab": {},
    "colab_type": "code",
    "id": "HSqy8eDB7uvp"
   },
   "outputs": [],
   "source": [
    "nb_train_samples = 9917\n",
    "nb_validation_samples = 1969\n",
    "n_classes =  10\n",
    "epochs = 10"
   ]
  },
  {
   "cell_type": "markdown",
   "metadata": {
    "colab_type": "text",
    "id": "dWf1Ee7q7uvx"
   },
   "source": [
    "### Basic CNN\n",
    "\n",
    "We build a sequential model and add convolutional layers and max pooling layers to it. We also add dropout layers in between, dropout randomly switches off some neurons in the network which forces the data to find new paths. Therefore, this reduces overfitting. We add dense layers at the end which are used for class prediction.\n",
    "\n",
    "Max-pooling: A technique used to reduce the dimensions of an image by taking the maximum pixel value of a grid. This also helps reduce overfitting and makes the model more generic. The example below show how 2 x 2 max pooling works\n",
    "\n",
    "Exaple of 3 layers network on the image below:"
   ]
  },
  {
   "cell_type": "markdown",
   "metadata": {
    "colab_type": "text",
    "id": "-KvZ5BohJalr"
   },
   "source": [
    "<img src=https://www.learnopencv.com/wp-content/uploads/2017/11/cnn-schema1.jpg width=\"500\">"
   ]
  },
  {
   "cell_type": "code",
   "execution_count": 6,
   "metadata": {
    "colab": {
     "base_uri": "https://localhost:8080/",
     "height": 610
    },
    "colab_type": "code",
    "id": "omZfCPoU7uv1",
    "outputId": "192492fa-8843-4f61-d2ef-273876bb8963"
   },
   "outputs": [
    {
     "name": "stdout",
     "output_type": "stream",
     "text": [
      "WARNING:tensorflow:From /usr/local/lib/python3.6/dist-packages/tensorflow/python/framework/op_def_library.py:263: colocate_with (from tensorflow.python.framework.ops) is deprecated and will be removed in a future version.\n",
      "Instructions for updating:\n",
      "Colocations handled automatically by placer.\n",
      "WARNING:tensorflow:From /usr/local/lib/python3.6/dist-packages/keras/backend/tensorflow_backend.py:3445: calling dropout (from tensorflow.python.ops.nn_ops) with keep_prob is deprecated and will be removed in a future version.\n",
      "Instructions for updating:\n",
      "Please use `rate` instead of `keep_prob`. Rate should be set to `rate = 1 - keep_prob`.\n",
      "_________________________________________________________________\n",
      "Layer (type)                 Output Shape              Param #   \n",
      "=================================================================\n",
      "conv2d_1 (Conv2D)            (None, 94, 94, 32)        896       \n",
      "_________________________________________________________________\n",
      "max_pooling2d_1 (MaxPooling2 (None, 47, 47, 32)        0         \n",
      "_________________________________________________________________\n",
      "conv2d_2 (Conv2D)            (None, 45, 45, 32)        9248      \n",
      "_________________________________________________________________\n",
      "max_pooling2d_2 (MaxPooling2 (None, 22, 22, 32)        0         \n",
      "_________________________________________________________________\n",
      "conv2d_3 (Conv2D)            (None, 20, 20, 64)        18496     \n",
      "_________________________________________________________________\n",
      "max_pooling2d_3 (MaxPooling2 (None, 10, 10, 64)        0         \n",
      "_________________________________________________________________\n",
      "flatten_1 (Flatten)          (None, 6400)              0         \n",
      "_________________________________________________________________\n",
      "dense_1 (Dense)              (None, 512)               3277312   \n",
      "_________________________________________________________________\n",
      "dropout_1 (Dropout)          (None, 512)               0         \n",
      "_________________________________________________________________\n",
      "dense_2 (Dense)              (None, 10)                5130      \n",
      "=================================================================\n",
      "Total params: 3,311,082\n",
      "Trainable params: 3,311,082\n",
      "Non-trainable params: 0\n",
      "_________________________________________________________________\n"
     ]
    }
   ],
   "source": [
    "model = Sequential()\n",
    "model.add(Conv2D(32, (3, 3), activation='relu', input_shape=(img_width, img_height, 3)))\n",
    "model.add(MaxPool2D(pool_size=(2, 2)))\n",
    "\n",
    "model.add(Conv2D(32, (3, 3), activation='relu'))\n",
    "model.add(MaxPool2D(pool_size=(2, 2)))\n",
    "\n",
    "model.add(Conv2D(64, (3, 3), activation='relu'))\n",
    "model.add(MaxPool2D(pool_size=(2, 2)))\n",
    "\n",
    "model.add(Flatten())\n",
    "model.add(Dense(512, activation='relu'))\n",
    "model.add(Dropout(0.5))\n",
    "model.add(Dense(10, activation= 'softmax'))\n",
    "\n",
    "model.compile(loss='categorical_crossentropy',\n",
    "            optimizer=\"adam\",\n",
    "            metrics=[\"accuracy\"])\n",
    "\n",
    "model.summary()\n",
    "\n",
    "\n",
    "# Model saving callback\n",
    "checkpointer = ModelCheckpoint(filepath='basic_cnn.h5py', monitor='val_acc', save_best_only=True)\n",
    "\n",
    "# Early stopping\n",
    "early_stopping = EarlyStopping(monitor='val_acc', verbose=1, patience=3)\n"
   ]
  },
  {
   "cell_type": "code",
   "execution_count": 0,
   "metadata": {
    "colab": {},
    "colab_type": "code",
    "id": "2O6HzgKR_P0f"
   },
   "outputs": [],
   "source": [
    "!pip install -U -q PyDrive\n",
    "from pydrive.auth import GoogleAuth\n",
    "from pydrive.drive import GoogleDrive \n",
    "from google.colab import auth \n",
    "from oauth2client.client import GoogleCredentials"
   ]
  },
  {
   "cell_type": "code",
   "execution_count": 0,
   "metadata": {
    "colab": {},
    "colab_type": "code",
    "id": "G0q2VTwL_ehI"
   },
   "outputs": [],
   "source": [
    "auth.authenticate_user()\n",
    "gauth = GoogleAuth()\n",
    "gauth.credentials = GoogleCredentials.get_application_default()\n",
    "drive = GoogleDrive(gauth)"
   ]
  },
  {
   "cell_type": "code",
   "execution_count": 12,
   "metadata": {
    "colab": {
     "base_uri": "https://localhost:8080/",
     "height": 454
    },
    "colab_type": "code",
    "id": "nZqf-Wi27uwI",
    "outputId": "13773232-7b40-43e8-8f32-0e50558e639e"
   },
   "outputs": [
    {
     "name": "stderr",
     "output_type": "stream",
     "text": [
      "/usr/local/lib/python3.6/dist-packages/ipykernel_launcher.py:7: UserWarning: The semantics of the Keras 2 argument `steps_per_epoch` is not the same as the Keras 1 argument `samples_per_epoch`. `steps_per_epoch` is the number of batches to draw from the generator at each epoch. Basically steps_per_epoch = samples_per_epoch/batch_size. Similarly `nb_val_samples`->`validation_steps` and `val_samples`->`steps` arguments have changed. Update your method calls accordingly.\n",
      "  import sys\n",
      "/usr/local/lib/python3.6/dist-packages/ipykernel_launcher.py:7: UserWarning: Update your `fit_generator` call to the Keras 2 API: `fit_generator(generator=<keras_pre..., validation_data=<keras_pre..., callbacks=[<keras.ca..., verbose=1, epochs=10, steps_per_epoch=619, validation_steps=1969)`\n",
      "  import sys\n"
     ]
    },
    {
     "name": "stdout",
     "output_type": "stream",
     "text": [
      "Epoch 1/10\n",
      "619/619 [==============================] - 8588s 14s/step - loss: 2.2753 - acc: 0.1392 - val_loss: 2.2588 - val_acc: 0.1626\n",
      "Epoch 2/10\n",
      "619/619 [==============================] - 1075s 2s/step - loss: 2.1191 - acc: 0.2459 - val_loss: 2.0164 - val_acc: 0.2971\n",
      "Epoch 3/10\n",
      "619/619 [==============================] - 1079s 2s/step - loss: 1.8786 - acc: 0.3457 - val_loss: 1.8465 - val_acc: 0.3850\n",
      "Epoch 4/10\n",
      "619/619 [==============================] - 1076s 2s/step - loss: 1.6656 - acc: 0.4264 - val_loss: 1.4913 - val_acc: 0.4960\n",
      "Epoch 5/10\n",
      "619/619 [==============================] - 1058s 2s/step - loss: 1.5182 - acc: 0.4799 - val_loss: 1.4007 - val_acc: 0.5300\n",
      "Epoch 6/10\n",
      "619/619 [==============================] - 1063s 2s/step - loss: 1.4110 - acc: 0.5130 - val_loss: 1.5511 - val_acc: 0.5013\n",
      "Epoch 7/10\n",
      "619/619 [==============================] - 1065s 2s/step - loss: 1.3287 - acc: 0.5510 - val_loss: 1.2475 - val_acc: 0.5873\n",
      "Epoch 8/10\n",
      "619/619 [==============================] - 1068s 2s/step - loss: 1.2683 - acc: 0.5742 - val_loss: 1.2095 - val_acc: 0.5891\n",
      "Epoch 9/10\n",
      "619/619 [==============================] - 1063s 2s/step - loss: 1.2173 - acc: 0.5882 - val_loss: 1.0979 - val_acc: 0.6302\n",
      "Epoch 10/10\n",
      "619/619 [==============================] - 1071s 2s/step - loss: 1.1703 - acc: 0.5996 - val_loss: 1.2138 - val_acc: 0.5991\n"
     ]
    }
   ],
   "source": [
    "history = model.fit_generator(generator=train_flow, \n",
    "                    samples_per_epoch=nb_train_samples,\n",
    "                    validation_data=validation_flow,\n",
    "                    nb_val_samples=nb_validation_samples,\n",
    "                    callbacks=[checkpointer, early_stopping],\n",
    "                    verbose=1,\n",
    "                    epochs=epochs)"
   ]
  },
  {
   "cell_type": "code",
   "execution_count": 0,
   "metadata": {
    "colab": {},
    "colab_type": "code",
    "id": "NBz7yUW4ApBb"
   },
   "outputs": [],
   "source": [
    "model.save('basic_cnn.h5py')\n",
    "model_file = drive.CreateFile({'title' : 'basic_cnn.h5py'})\n",
    "model_file.SetContentFile('basic_cnn.h5py')\n",
    "model_file.Upload()"
   ]
  },
  {
   "cell_type": "code",
   "execution_count": 14,
   "metadata": {
    "colab": {
     "base_uri": "https://localhost:8080/",
     "height": 34
    },
    "colab_type": "code",
    "id": "pcGLnKldAtn9",
    "outputId": "df1d2ea5-2cfb-4347-a212-ba97977af757"
   },
   "outputs": [
    {
     "data": {
      "text/plain": [
       "\"\\nLoading models from Google Drive into Colab\\nfile_obj = drive.CreateFile({'id': '16zbkEN4vqnPvIOvLMF1IaXKYCq5g3Yln'})\\nfile_obj.GetContentFile('keras.h5')\""
      ]
     },
     "execution_count": 14,
     "metadata": {
      "tags": []
     },
     "output_type": "execute_result"
    }
   ],
   "source": [
    "# download to google drive\n",
    "drive.CreateFile({'id': model_file.get('id')})\n",
    "'''\n",
    "Loading models from Google Drive into Colab\n",
    "file_obj = drive.CreateFile({'id': '16zbkEN4vqnPvIOvLMF1IaXKYCq5g3Yln'})\n",
    "file_obj.GetContentFile('keras.h5')'''"
   ]
  },
  {
   "cell_type": "code",
   "execution_count": 15,
   "metadata": {
    "colab": {
     "base_uri": "https://localhost:8080/",
     "height": 34
    },
    "colab_type": "code",
    "id": "9MJlIVtX9wWu",
    "outputId": "e76e320f-b157-412c-a87b-28765373c3d0"
   },
   "outputs": [
    {
     "data": {
      "text/plain": [
       "[1.2120182698160524, 0.5996993346980553]"
      ]
     },
     "execution_count": 15,
     "metadata": {
      "tags": []
     },
     "output_type": "execute_result"
    }
   ],
   "source": [
    "model.evaluate_generator(validation_flow, nb_validation_samples, workers=10)"
   ]
  },
  {
   "cell_type": "code",
   "execution_count": 16,
   "metadata": {
    "colab": {
     "base_uri": "https://localhost:8080/",
     "height": 376
    },
    "colab_type": "code",
    "id": "sI1PycHvBHGQ",
    "outputId": "1df28e9f-23dd-450c-a166-0ee406fdd654"
   },
   "outputs": [
    {
     "data": {
      "image/png": "[encoded data removed]",
      "text/plain": [
       "<Figure size 576x396 with 1 Axes>"
      ]
     },
     "metadata": {
      "tags": []
     },
     "output_type": "display_data"
    }
   ],
   "source": [
    "import matplotlib.pyplot as plt\n",
    "\n",
    "fig, ax = plt.subplots()\n",
    "plt.plot(history.history['acc'])\n",
    "plt.plot(history.history['val_acc'])\n",
    "plt.title('Model accuracy')\n",
    "plt.ylabel('Accuracy')\n",
    "plt.xlabel('Epoch')\n",
    "plt.legend(['Train', 'Test'], loc='upper left')\n",
    "plt.show()"
   ]
  },
  {
   "cell_type": "markdown",
   "metadata": {
    "colab_type": "text",
    "id": "8TcLFUuL2cf5"
   },
   "source": [
    "**Transfer Learning - predictions using weights from ImageNet (VGG16)**"
   ]
  },
  {
   "cell_type": "markdown",
   "metadata": {
    "colab_type": "text",
    "id": "iG4ToAzT2c5X"
   },
   "source": [
    "Transfer learning is using pre-trained CNN architecture. When we train our own data on the top of the pre-trained parameters, we can easily reach to the target accuracy.\n",
    "\n",
    "Different CNN architectures could be found in the Keras library — for example VGG16, VGG19, Inception, etc. While VGG19 and Inception are more heavier architectures (number of parameters to train), training VGG16 was doable in the time frame that we had.\n",
    "\n",
    "The architecture of VGG16: the input layer takes an image in the size of (224 x 224 x 3), and the output layer is a softmax prediction on 1000 classes. From the input layer to the last max pooling layer (labeled by 7 x 7 x 512) is regarded as the feature extraction part of the model, while the rest of the network is regarded as the classification part of the model."
   ]
  },
  {
   "cell_type": "markdown",
   "metadata": {
    "colab_type": "text",
    "id": "5_IYWxP0CdGk"
   },
   "source": [
    "![alt text](https://s3.ap-south-1.amazonaws.com/techleer/309.jpg)"
   ]
  },
  {
   "cell_type": "markdown",
   "metadata": {},
   "source": [
    "Before proceeding with any model training, VGG16 architecture trained on Imagenet dataset is picked up and is used to predict on the images that we had."
   ]
  },
  {
   "cell_type": "markdown",
   "metadata": {
    "colab_type": "text",
    "id": "4TKc40uU8Ym1"
   },
   "source": [
    "<img src=http://lh3.ggpht.com/-Fri9BOfQIe8/Sg1CCY2Uc7I/AAAAAAAACAY/5ya_xz8N2i0/s1600/ width=\"300\">"
   ]
  },
  {
   "cell_type": "code",
   "execution_count": 2,
   "metadata": {
    "colab": {},
    "colab_type": "code",
    "id": "1fVwnBPPB95v"
   },
   "outputs": [],
   "source": [
    "from keras.applications import VGG16\n",
    "from keras.preprocessing import image\n",
    "from keras.applications.vgg16 import preprocess_input, decode_predictions"
   ]
  },
  {
   "cell_type": "code",
   "execution_count": 23,
   "metadata": {
    "colab": {
     "base_uri": "https://localhost:8080/",
     "height": 54
    },
    "colab_type": "code",
    "id": "d9zy_LgK4DdK",
    "outputId": "d72b9804-9b3f-4b96-9187-9a61f765b5ff"
   },
   "outputs": [
    {
     "name": "stdout",
     "output_type": "stream",
     "text": [
      "Predicted: [('n03877845', 'palace', 0.23293868), ('n03447447', 'gondola', 0.093717426), ('n03781244', 'monastery', 0.049728256), ('n02667093', 'abaya', 0.037438527), ('n02097130', 'giant_schnauzer', 0.032675724), ('n04485082', 'tripod', 0.018832762), ('n04486054', 'triumphal_arch', 0.018675718), ('n02098286', 'West_Highland_white_terrier', 0.018213551), ('n02111277', 'Newfoundland', 0.016907277), ('n02980441', 'castle', 0.01578292)]\n"
     ]
    }
   ],
   "source": [
    "model = VGG16(weights = 'imagenet', include_top = True)\n",
    "\n",
    "img_path = r'/content/gdrive/My Drive/Colab Notebooks/Google Landmark Recognition/images/train/2061/0aa810ea624bb7b0.jpg'\n",
    "img = image.load_img(img_path, target_size= (224,224))\n",
    "x = image.img_to_array(img)\n",
    "x = np.expand_dims(x, axis = 0)\n",
    "x = preprocess_input(x)\n",
    "\n",
    "preds = model.predict(x)\n",
    "print ('Predicted:', decode_predictions(preds, top = 10)[0])"
   ]
  },
  {
   "cell_type": "code",
   "execution_count": 7,
   "metadata": {
    "colab": {
     "base_uri": "https://localhost:8080/",
     "height": 89
    },
    "colab_type": "code",
    "id": "4Y8j91Qnws5k",
    "outputId": "dc4b1e98-147a-481a-e379-79fdb5772f0c"
   },
   "outputs": [
    {
     "name": "stdout",
     "output_type": "stream",
     "text": [
      "WARNING:tensorflow:From /usr/local/lib/python3.6/dist-packages/tensorflow/python/framework/op_def_library.py:263: colocate_with (from tensorflow.python.framework.ops) is deprecated and will be removed in a future version.\n",
      "Instructions for updating:\n",
      "Colocations handled automatically by placer.\n"
     ]
    }
   ],
   "source": [
    "h,w = 96, 96\n",
    "base_model = VGG16(include_top=False, weights='imagenet', input_shape=(h,w,3))"
   ]
  },
  {
   "cell_type": "markdown",
   "metadata": {
    "colab_type": "text",
    "id": "AJ-Kh2Kt96w5"
   },
   "source": [
    "Observation: Model predicted image class as \"palace\", which is true. Imagenet weights are successfully able to capture the generic features from landmarks."
   ]
  },
  {
   "cell_type": "code",
   "execution_count": 8,
   "metadata": {
    "colab": {
     "base_uri": "https://localhost:8080/",
     "height": 799
    },
    "colab_type": "code",
    "id": "MRcOlrIs7uw2",
    "outputId": "d2122aa2-c16e-41df-e1e5-989c536ed08c"
   },
   "outputs": [
    {
     "name": "stdout",
     "output_type": "stream",
     "text": [
      "_________________________________________________________________\n",
      "Layer (type)                 Output Shape              Param #   \n",
      "=================================================================\n",
      "input_1 (InputLayer)         (None, 96, 96, 3)         0         \n",
      "_________________________________________________________________\n",
      "block1_conv1 (Conv2D)        (None, 96, 96, 64)        1792      \n",
      "_________________________________________________________________\n",
      "block1_conv2 (Conv2D)        (None, 96, 96, 64)        36928     \n",
      "_________________________________________________________________\n",
      "block1_pool (MaxPooling2D)   (None, 48, 48, 64)        0         \n",
      "_________________________________________________________________\n",
      "block2_conv1 (Conv2D)        (None, 48, 48, 128)       73856     \n",
      "_________________________________________________________________\n",
      "block2_conv2 (Conv2D)        (None, 48, 48, 128)       147584    \n",
      "_________________________________________________________________\n",
      "block2_pool (MaxPooling2D)   (None, 24, 24, 128)       0         \n",
      "_________________________________________________________________\n",
      "block3_conv1 (Conv2D)        (None, 24, 24, 256)       295168    \n",
      "_________________________________________________________________\n",
      "block3_conv2 (Conv2D)        (None, 24, 24, 256)       590080    \n",
      "_________________________________________________________________\n",
      "block3_conv3 (Conv2D)        (None, 24, 24, 256)       590080    \n",
      "_________________________________________________________________\n",
      "block3_pool (MaxPooling2D)   (None, 12, 12, 256)       0         \n",
      "_________________________________________________________________\n",
      "block4_conv1 (Conv2D)        (None, 12, 12, 512)       1180160   \n",
      "_________________________________________________________________\n",
      "block4_conv2 (Conv2D)        (None, 12, 12, 512)       2359808   \n",
      "_________________________________________________________________\n",
      "block4_conv3 (Conv2D)        (None, 12, 12, 512)       2359808   \n",
      "_________________________________________________________________\n",
      "block4_pool (MaxPooling2D)   (None, 6, 6, 512)         0         \n",
      "_________________________________________________________________\n",
      "block5_conv1 (Conv2D)        (None, 6, 6, 512)         2359808   \n",
      "_________________________________________________________________\n",
      "block5_conv2 (Conv2D)        (None, 6, 6, 512)         2359808   \n",
      "_________________________________________________________________\n",
      "block5_conv3 (Conv2D)        (None, 6, 6, 512)         2359808   \n",
      "_________________________________________________________________\n",
      "block5_pool (MaxPooling2D)   (None, 3, 3, 512)         0         \n",
      "=================================================================\n",
      "Total params: 14,714,688\n",
      "Trainable params: 14,714,688\n",
      "Non-trainable params: 0\n",
      "_________________________________________________________________\n"
     ]
    }
   ],
   "source": [
    "base_model.summary()"
   ]
  },
  {
   "cell_type": "code",
   "execution_count": 9,
   "metadata": {
    "colab": {
     "base_uri": "https://localhost:8080/",
     "height": 243
    },
    "colab_type": "code",
    "id": "hxTJ3BXVzicp",
    "outputId": "88ca801e-6784-475b-cdac-37274733c858"
   },
   "outputs": [
    {
     "name": "stdout",
     "output_type": "stream",
     "text": [
      "_________________________________________________________________\n",
      "Layer (type)                 Output Shape              Param #   \n",
      "=================================================================\n",
      "flatten_1 (Flatten)          (None, 4608)              0         \n",
      "_________________________________________________________________\n",
      "dense_1 (Dense)              (None, 50)                230450    \n",
      "_________________________________________________________________\n",
      "dense_2 (Dense)              (None, 10)                510       \n",
      "=================================================================\n",
      "Total params: 230,960\n",
      "Trainable params: 230,960\n",
      "Non-trainable params: 0\n",
      "_________________________________________________________________\n"
     ]
    }
   ],
   "source": [
    "top_model = Sequential()\n",
    "top_model.add(Flatten(input_shape=base_model.output_shape[1:]))\n",
    "top_model.add(Dense(50,activation=\"relu\"))\n",
    "top_model.add(Dense(10,activation=\"sigmoid\"))\n",
    "top_model.summary()"
   ]
  },
  {
   "cell_type": "code",
   "execution_count": 10,
   "metadata": {
    "colab": {
     "base_uri": "https://localhost:8080/",
     "height": 208
    },
    "colab_type": "code",
    "id": "6Kz5oj_vzoBe",
    "outputId": "aa78d726-fb98-4b07-8b0b-814efcacb3ba"
   },
   "outputs": [
    {
     "name": "stdout",
     "output_type": "stream",
     "text": [
      "_________________________________________________________________\n",
      "Layer (type)                 Output Shape              Param #   \n",
      "=================================================================\n",
      "vgg16 (Model)                (None, 3, 3, 512)         14714688  \n",
      "_________________________________________________________________\n",
      "sequential_1 (Sequential)    (None, 10)                230960    \n",
      "=================================================================\n",
      "Total params: 14,945,648\n",
      "Trainable params: 230,960\n",
      "Non-trainable params: 14,714,688\n",
      "_________________________________________________________________\n"
     ]
    }
   ],
   "source": [
    "transfer_model = Sequential()\n",
    "transfer_model.add(base_model)\n",
    "transfer_model.add(top_model)\n",
    "\n",
    "transfer_model.layers[0].trainable = False\n",
    "\n",
    "transfer_model.compile(loss=\"binary_crossentropy\",\n",
    "            optimizer=\"adam\",\n",
    "            metrics=[\"accuracy\"])\n",
    "\n",
    "transfer_model.summary()\n",
    "\n",
    "# Model saving callback\n",
    "checkpointer = ModelCheckpoint(filepath='transfer_learned_cnn.h5py', monitor='val_acc', save_best_only=True)\n",
    "\n",
    "# Early stopping\n",
    "early_stopping = EarlyStopping(monitor='val_acc', verbose=1, patience=3)\n"
   ]
  },
  {
   "cell_type": "code",
   "execution_count": 11,
   "metadata": {
    "colab": {
     "base_uri": "https://localhost:8080/",
     "height": 506
    },
    "colab_type": "code",
    "id": "gEYKK-rOztrf",
    "outputId": "6bab50e5-1a12-4c25-8b5f-769c6838b3eb"
   },
   "outputs": [
    {
     "name": "stdout",
     "output_type": "stream",
     "text": [
      "Found 9917 images belonging to 10 classes.\n",
      "Found 1969 images belonging to 10 classes.\n",
      "WARNING:tensorflow:From /usr/local/lib/python3.6/dist-packages/tensorflow/python/ops/math_ops.py:3066: to_int32 (from tensorflow.python.ops.math_ops) is deprecated and will be removed in a future version.\n",
      "Instructions for updating:\n",
      "Use tf.cast instead.\n"
     ]
    },
    {
     "name": "stderr",
     "output_type": "stream",
     "text": [
      "/usr/local/lib/python3.6/dist-packages/ipykernel_launcher.py:20: UserWarning: The semantics of the Keras 2 argument `steps_per_epoch` is not the same as the Keras 1 argument `samples_per_epoch`. `steps_per_epoch` is the number of batches to draw from the generator at each epoch. Basically steps_per_epoch = samples_per_epoch/batch_size. Similarly `nb_val_samples`->`validation_steps` and `val_samples`->`steps` arguments have changed. Update your method calls accordingly.\n",
      "/usr/local/lib/python3.6/dist-packages/ipykernel_launcher.py:20: UserWarning: Update your `fit_generator` call to the Keras 2 API: `fit_generator(generator=<keras_pre..., validation_data=<keras_pre..., callbacks=[<keras.ca..., epochs=10, steps_per_epoch=619, validation_steps=1969)`\n"
     ]
    },
    {
     "name": "stdout",
     "output_type": "stream",
     "text": [
      "Epoch 1/10\n",
      "619/619 [==============================] - 1106s 2s/step - loss: 0.2163 - acc: 0.9220 - val_loss: 0.1851 - val_acc: 0.9329\n",
      "Epoch 2/10\n",
      "619/619 [==============================] - 1104s 2s/step - loss: 0.1724 - acc: 0.9372 - val_loss: 0.1713 - val_acc: 0.9375\n",
      "Epoch 3/10\n",
      "619/619 [==============================] - 1094s 2s/step - loss: 0.1610 - acc: 0.9408 - val_loss: 0.1599 - val_acc: 0.9405\n",
      "Epoch 4/10\n",
      "619/619 [==============================] - 1091s 2s/step - loss: 0.1524 - acc: 0.9439 - val_loss: 0.1549 - val_acc: 0.9433\n",
      "Epoch 5/10\n",
      "619/619 [==============================] - 1099s 2s/step - loss: 0.1468 - acc: 0.9467 - val_loss: 0.1625 - val_acc: 0.9405\n",
      "Epoch 6/10\n",
      "619/619 [==============================] - 1099s 2s/step - loss: 0.1422 - acc: 0.9475 - val_loss: 0.1421 - val_acc: 0.9471\n",
      "Epoch 7/10\n",
      "619/619 [==============================] - 1095s 2s/step - loss: 0.1390 - acc: 0.9490 - val_loss: 0.1422 - val_acc: 0.9472\n",
      "Epoch 8/10\n",
      "619/619 [==============================] - 1110s 2s/step - loss: 0.1357 - acc: 0.9499 - val_loss: 0.1424 - val_acc: 0.9473\n",
      "Epoch 9/10\n",
      "619/619 [==============================] - 1119s 2s/step - loss: 0.1338 - acc: 0.9504 - val_loss: 0.1515 - val_acc: 0.9440\n",
      "Epoch 10/10\n",
      "619/619 [==============================] - 1121s 2s/step - loss: 0.1301 - acc: 0.9519 - val_loss: 0.1545 - val_acc: 0.9434\n"
     ]
    }
   ],
   "source": [
    "train_generator = ImageDataGenerator(rescale=1/255,\n",
    "                                     rotation_range=90,\n",
    "                                     zoom_range=0.2,\n",
    "                                     horizontal_flip=True)\n",
    "validation_generator = ImageDataGenerator(rescale=1/255)\n",
    "\n",
    "train_flow = train_generator.flow_from_directory(\n",
    "    directory=train_data_dir, batch_size=batch_size, \n",
    "    target_size=(h,w))\n",
    "\n",
    "validation_flow = validation_generator.flow_from_directory(\n",
    "    directory=validation_data_dir, batch_size=batch_size, \n",
    "    target_size=(h,w))\n",
    "\n",
    "transfer_history = transfer_model.fit_generator(generator=train_flow, \n",
    "                    samples_per_epoch=nb_train_samples,\n",
    "                    validation_data=validation_flow,\n",
    "                    nb_val_samples=nb_validation_samples,\n",
    "                    callbacks=[checkpointer, early_stopping],\n",
    "                    epochs=10)"
   ]
  },
  {
   "cell_type": "code",
   "execution_count": 0,
   "metadata": {
    "colab": {},
    "colab_type": "code",
    "id": "4Bj4gmPMvrns"
   },
   "outputs": [],
   "source": [
    "# save the learned network for feature work\n",
    "transfer_model.save('transfer_learnd_cnn.h5py')\n",
    "transfer_model_file = drive.CreateFile({'title' : 'transfer_learnd_cnn.h5py'})\n",
    "transfer_model_file.SetContentFile('transfer_learnd_cnn.h5py')\n",
    "transfer_model_file.Upload()"
   ]
  },
  {
   "cell_type": "code",
   "execution_count": 24,
   "metadata": {
    "colab": {
     "base_uri": "https://localhost:8080/",
     "height": 34
    },
    "colab_type": "code",
    "id": "jX8457SZv84z",
    "outputId": "e5d24e05-a6c3-4a82-9532-f67de355d04a"
   },
   "outputs": [
    {
     "data": {
      "text/plain": [
       "GoogleDriveFile({'id': '1hwCng9Iko0JXaKg108N4KIo_2cBUeQBJ'})"
      ]
     },
     "execution_count": 24,
     "metadata": {
      "tags": []
     },
     "output_type": "execute_result"
    }
   ],
   "source": [
    "# download to google drive\n",
    "drive.CreateFile({'id': transfer_model_file.get('id')})"
   ]
  },
  {
   "cell_type": "code",
   "execution_count": 15,
   "metadata": {
    "colab": {
     "base_uri": "https://localhost:8080/",
     "height": 34
    },
    "colab_type": "code",
    "id": "izcUjx-awHde",
    "outputId": "945588da-56ed-47ea-9e3e-756379241f26"
   },
   "outputs": [
    {
     "data": {
      "text/plain": [
       "[0.15449867440714812, 0.9435324881706261]"
      ]
     },
     "execution_count": 15,
     "metadata": {
      "tags": []
     },
     "output_type": "execute_result"
    }
   ],
   "source": [
    "# loss and accuracy on validation set\n",
    "transfer_model.evaluate_generator(validation_flow, nb_validation_samples, workers=10)"
   ]
  },
  {
   "cell_type": "code",
   "execution_count": 17,
   "metadata": {
    "colab": {
     "base_uri": "https://localhost:8080/",
     "height": 376
    },
    "colab_type": "code",
    "id": "eif433PawRp3",
    "outputId": "5af2416a-6119-4e4e-a537-e8d1380eb818"
   },
   "outputs": [
    {
     "data": {
      "image/png": "[encoded data removed]",
      "text/plain": [
       "<Figure size 576x396 with 1 Axes>"
      ]
     },
     "metadata": {
      "tags": []
     },
     "output_type": "display_data"
    }
   ],
   "source": [
    "import matplotlib.pyplot as plt\n",
    "\n",
    "fig, ax = plt.subplots()\n",
    "plt.plot(transfer_history.history['acc'])\n",
    "plt.plot(transfer_history.history['val_acc'])\n",
    "plt.title('Model accuracy')\n",
    "plt.ylabel('Accuracy')\n",
    "plt.xlabel('Epoch')\n",
    "plt.legend(['Train', 'Test'], loc='upper left')\n",
    "plt.show()"
   ]
  },
  {
   "cell_type": "markdown",
   "metadata": {},
   "source": [
    "### Test data\n",
    "\n",
    "Now i am checking my model on the test data to be sure it's working."
   ]
  },
  {
   "cell_type": "code",
   "execution_count": 7,
   "metadata": {},
   "outputs": [
    {
     "name": "stderr",
     "output_type": "stream",
     "text": [
      "/home/natalia/anaconda3/lib/python3.6/site-packages/keras/engine/saving.py:327: UserWarning: Error in loading the saved optimizer state. As a result, your model is starting with a freshly initialized optimizer.\n",
      "  warnings.warn('Error in loading the saved optimizer '\n"
     ]
    }
   ],
   "source": [
    "from keras.models import load_model\n",
    "final_model = load_model('transfer_learnd_cnn.h5py')"
   ]
  },
  {
   "cell_type": "code",
   "execution_count": 8,
   "metadata": {},
   "outputs": [],
   "source": [
    "#load test data\n",
    "test_data_dir = 'images/test/'"
   ]
  },
  {
   "cell_type": "code",
   "execution_count": 11,
   "metadata": {},
   "outputs": [
    {
     "name": "stdout",
     "output_type": "stream",
     "text": [
      "Found 184 images belonging to 10 classes.\n"
     ]
    }
   ],
   "source": [
    "img_height, img_width = 96, 96\n",
    "batch_size =16\n",
    "\n",
    "#standarize images for predicting\n",
    "test_generator = ImageDataGenerator(rescale=1/255)\n",
    "\n",
    "test_flow = test_generator.flow_from_directory(directory=test_data_dir, \n",
    "                                                 batch_size=batch_size, target_size=(img_height,img_width))"
   ]
  },
  {
   "cell_type": "code",
   "execution_count": 13,
   "metadata": {},
   "outputs": [
    {
     "name": "stdout",
     "output_type": "stream",
     "text": [
      "12/11 [===============================] - 50s 4s/step\n"
     ]
    },
    {
     "data": {
      "text/plain": [
       "[0.14587437912173892, 0.94565217391304346]"
      ]
     },
     "execution_count": 13,
     "metadata": {},
     "output_type": "execute_result"
    }
   ],
   "source": [
    "final_model.evaluate_generator(test_flow, test_flow.samples / batch_size, verbose=1)"
   ]
  },
  {
   "cell_type": "markdown",
   "metadata": {},
   "source": [
    "### Referances:\n",
    "\n",
    "* https://www.kaggle.com/codename007/a-very-extensive-landmark-exploratory-analysis\n",
    "* https://towardsdatascience.com/google-landmark-recognition-using-transfer-learning-dde35cc760e1\n",
    "* https://github.com/anishagg/Google-Landmark-Recognition/blob/master/Scripts/Landmark_Recognition.ipynb\n",
    "* https://github.com/svetlana-topalova/Landmark-Recognition/blob/master/DL_Project_Landmark%20Recognition.ipynb\n",
    "* https://s3.ap-south-1.amazonaws.com/techleer/309.jpg\n",
    "* http://lh3.ggpht.com/-Fri9BOfQIe8/Sg1CCY2Uc7I/AAAAAAAACAY/5ya_xz8N2i0/s1600\n",
    "* https://www.learnopencv.com/wp-content/uploads/2017/11/cnn-schema1.jpg"
   ]
  },
  {
   "cell_type": "code",
   "execution_count": null,
   "metadata": {},
   "outputs": [],
   "source": []
  }
 ],
 "metadata": {
  "accelerator": "GPU",
  "colab": {
   "collapsed_sections": [],
   "name": "Landmark Recognition - data preparation.ipynb",
   "provenance": [],
   "version": "0.3.2"
  },
  "kernelspec": {
   "display_name": "Python 3",
   "language": "python",
   "name": "python3"
  },
  "language_info": {
   "codemirror_mode": {
    "name": "ipython",
    "version": 3
   },
   "file_extension": ".py",
   "mimetype": "text/x-python",
   "name": "python",
   "nbconvert_exporter": "python",
   "pygments_lexer": "ipython3",
   "version": "3.6.0"
  }
 },
 "nbformat": 4,
 "nbformat_minor": 1
}
